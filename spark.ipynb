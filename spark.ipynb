{
 "cells": [
  {
   "cell_type": "code",
   "execution_count": 1,
   "id": "96357da3",
   "metadata": {},
   "outputs": [
    {
     "data": {
      "text/plain": [
       "'4.0.0'"
      ]
     },
     "execution_count": 1,
     "metadata": {},
     "output_type": "execute_result"
    }
   ],
   "source": [
    "import pyspark\n",
    "\n",
    "pyspark.__version__"
   ]
  },
  {
   "cell_type": "markdown",
   "id": "73589196",
   "metadata": {},
   "source": [
    "## Simple Project Setup"
   ]
  },
  {
   "cell_type": "code",
   "execution_count": null,
   "id": "360ef17c",
   "metadata": {},
   "outputs": [],
   "source": [
    "import os\n",
    "import shutil\n",
    "\n",
    "\n",
    "os.makedirs(\"data/raw\", exist_ok=True)\n",
    "os.makedirs(\"data/lake\", exist_ok=True)\n",
    "os.makedirs(\"outputs/tables/\", exist_ok=True)\n",
    "\n",
    "shutil.move(\"flights.csv\", \"data/raw/flights.csv\")\n",
    "shutil.move(\"airlines.csv\", \"data/raw/airlines.csv\")\n",
    "shutil.move(\"airports.csv\", \"data/raw/airports.csv\")"
   ]
  },
  {
   "cell_type": "code",
   "execution_count": 2,
   "id": "0125043f",
   "metadata": {},
   "outputs": [
    {
     "name": "stderr",
     "output_type": "stream",
     "text": [
      "WARNING: Using incubator modules: jdk.incubator.vector\n",
      "Using Spark's default log4j profile: org/apache/spark/log4j2-defaults.properties\n",
      "Setting default log level to \"WARN\".\n",
      "To adjust logging level use sc.setLogLevel(newLevel). For SparkR, use setLogLevel(newLevel).\n",
      "25/09/20 15:13:39 WARN NativeCodeLoader: Unable to load native-hadoop library for your platform... using builtin-java classes where applicable\n"
     ]
    }
   ],
   "source": [
    "from pyspark.sql import SparkSession\n",
    "\n",
    "spark = (SparkSession.builder\n",
    "        .appName(\"Flights-Delay\")\n",
    "        .master(\"local[*]\")\n",
    "        .getOrCreate())"
   ]
  },
  {
   "cell_type": "markdown",
   "id": "c564e82a",
   "metadata": {},
   "source": [
    "# Data\n"
   ]
  },
  {
   "cell_type": "code",
   "execution_count": 3,
   "id": "09d4501a",
   "metadata": {},
   "outputs": [
    {
     "name": "stderr",
     "output_type": "stream",
     "text": [
      "25/09/20 15:13:44 WARN SparkStringUtils: Truncated the string representation of a plan since it was too large. This behavior can be adjusted by setting 'spark.sql.debug.maxToStringFields'.\n"
     ]
    },
    {
     "name": "stdout",
     "output_type": "stream",
     "text": [
      "+----+-----+---+-----------+-------+-------------+-----------+--------------+-------------------+-------------------+--------------+---------------+--------+----------+--------------+------------+--------+--------+---------+-------+-----------------+------------+-------------+--------+---------+-------------------+----------------+--------------+-------------+-------------------+-------------+\n",
      "|YEAR|MONTH|DAY|DAY_OF_WEEK|AIRLINE|FLIGHT_NUMBER|TAIL_NUMBER|ORIGIN_AIRPORT|DESTINATION_AIRPORT|SCHEDULED_DEPARTURE|DEPARTURE_TIME|DEPARTURE_DELAY|TAXI_OUT|WHEELS_OFF|SCHEDULED_TIME|ELAPSED_TIME|AIR_TIME|DISTANCE|WHEELS_ON|TAXI_IN|SCHEDULED_ARRIVAL|ARRIVAL_TIME|ARRIVAL_DELAY|DIVERTED|CANCELLED|CANCELLATION_REASON|AIR_SYSTEM_DELAY|SECURITY_DELAY|AIRLINE_DELAY|LATE_AIRCRAFT_DELAY|WEATHER_DELAY|\n",
      "+----+-----+---+-----------+-------+-------------+-----------+--------------+-------------------+-------------------+--------------+---------------+--------+----------+--------------+------------+--------+--------+---------+-------+-----------------+------------+-------------+--------+---------+-------------------+----------------+--------------+-------------+-------------------+-------------+\n",
      "|2015|    6| 10|          3|     EV|         5212|     N858AS|           BGM|                DTW|               1532|          NULL|           -5.0|    10.0|      NULL|          82.0|        81.0|    65.0|   378.0|     NULL|    6.0|             1654|        NULL|         -6.0|       0|        0|               NULL|            NULL|          NULL|         NULL|               NULL|         NULL|\n",
      "|2015|    7| 19|          7|     DL|         2090|     N833DN|           PDX|                MSP|                700|          NULL|           -6.0|    12.0|      NULL|         192.0|       195.0|   178.0|  1426.0|     NULL|    5.0|             1212|        NULL|         -3.0|       0|        0|               NULL|            NULL|          NULL|         NULL|               NULL|         NULL|\n",
      "|2015|    7|  4|          6|     HA|          208|     N491HA|           HNL|                KOA|               1125|          NULL|           -9.0|    10.0|      NULL|          44.0|        42.0|    27.0|   163.0|     NULL|    5.0|             1209|        NULL|        -11.0|       0|        0|               NULL|            NULL|          NULL|         NULL|               NULL|         NULL|\n",
      "|2015|    3| 22|          7|     DL|         2037|     N375NC|           MSP|                BZN|               1956|          NULL|           33.0|    70.0|      NULL|         153.0|       202.0|   128.0|   874.0|     NULL|    4.0|             2129|        NULL|         82.0|       0|        0|               NULL|            49.0|           0.0|          0.0|                0.0|         33.0|\n",
      "|2015|    4| 14|          2|     WN|           12|     N7717D|           IND|                HOU|                650|          NULL|           -5.0|    12.0|      NULL|         150.0|       160.0|   142.0|   861.0|     NULL|    6.0|              820|        NULL|          5.0|       0|        0|               NULL|            NULL|          NULL|         NULL|               NULL|         NULL|\n",
      "|2015|    5| 14|          4|     WN|          230|     N935WN|           ABQ|                SAN|                735|          NULL|           -5.0|     8.0|      NULL|         110.0|       107.0|    96.0|   628.0|     NULL|    3.0|              825|        NULL|         -8.0|       0|        0|               NULL|            NULL|          NULL|         NULL|               NULL|         NULL|\n",
      "|2015|    7|  5|          7|     AA|          281|     N5CNAA|           MIA|                DFW|                600|          NULL|          109.0|    11.0|      NULL|         186.0|       167.0|   150.0|  1121.0|     NULL|    6.0|              806|        NULL|         90.0|       0|        0|               NULL|             0.0|           0.0|         90.0|                0.0|          0.0|\n",
      "|2015|    6| 10|          3|     WN|         1154|     N955WN|           BNA|                LGA|               1505|          NULL|           73.0|    12.0|      NULL|         135.0|       128.0|   109.0|   764.0|     NULL|    7.0|             1820|        NULL|         66.0|       0|        0|               NULL|             0.0|           0.0|          0.0|               66.0|          0.0|\n",
      "|2015|   11|  6|          5|     AA|          560|     N808AW|           IAH|                PHX|                545|          NULL|           -5.0|    11.0|      NULL|         177.0|       167.0|   150.0|  1009.0|     NULL|    6.0|              742|        NULL|        -15.0|       0|        0|               NULL|            NULL|          NULL|         NULL|               NULL|         NULL|\n",
      "|2015|    1| 20|          2|     HA|           22|     N393HA|           HNL|                SEA|               1420|          NULL|            4.0|    17.0|      NULL|         340.0|       340.0|   312.0|  2677.0|     NULL|   11.0|             2200|        NULL|          4.0|       0|        0|               NULL|            NULL|          NULL|         NULL|               NULL|         NULL|\n",
      "+----+-----+---+-----------+-------+-------------+-----------+--------------+-------------------+-------------------+--------------+---------------+--------+----------+--------------+------------+--------+--------+---------+-------+-----------------+------------+-------------+--------+---------+-------------------+----------------+--------------+-------------+-------------------+-------------+\n",
      "only showing top 10 rows\n"
     ]
    }
   ],
   "source": [
    "from pyspark.sql import types as T\n",
    "\n",
    "flight_schema = T.StructType([\n",
    "    T.StructField(\"YEAR\", T.IntegerType(), True),\n",
    "    T.StructField(\"MONTH\", T.IntegerType(), True),\n",
    "    T.StructField(\"DAY\", T.IntegerType(), True),\n",
    "    T.StructField(\"DAY_OF_WEEK\", T.IntegerType(), True),\n",
    "    T.StructField(\"AIRLINE\", T.StringType(),  True),\n",
    "    T.StructField(\"FLIGHT_NUMBER\", T.StringType(),  True),\n",
    "    T.StructField(\"TAIL_NUMBER\", T.StringType(),  True),\n",
    "    T.StructField(\"ORIGIN_AIRPORT\", T.StringType(),  True),\n",
    "    T.StructField(\"DESTINATION_AIRPORT\", T.StringType(),  True),\n",
    "    T.StructField(\"SCHEDULED_DEPARTURE\", T.IntegerType(), True),\n",
    "    T.StructField(\"DEPARTURE_TIME\", T.IntegerType(), True),\n",
    "    T.StructField(\"DEPARTURE_DELAY\", T.DoubleType(),  True),\n",
    "    T.StructField(\"TAXI_OUT\", T.DoubleType(),  True),\n",
    "    T.StructField(\"WHEELS_OFF\", T.IntegerType(), True),\n",
    "    T.StructField(\"SCHEDULED_TIME\", T.DoubleType(),  True),\n",
    "    T.StructField(\"ELAPSED_TIME\", T.DoubleType(),  True),\n",
    "    T.StructField(\"AIR_TIME\", T.DoubleType(),  True),\n",
    "    T.StructField(\"DISTANCE\", T.DoubleType(),  True),\n",
    "    T.StructField(\"WHEELS_ON\", T.IntegerType(), True),\n",
    "    T.StructField(\"TAXI_IN\", T.DoubleType(),  True),\n",
    "    T.StructField(\"SCHEDULED_ARRIVAL\", T.IntegerType(), True),\n",
    "    T.StructField(\"ARRIVAL_TIME\", T.IntegerType(), True),\n",
    "    T.StructField(\"ARRIVAL_DELAY\", T.DoubleType(),  True),\n",
    "    T.StructField(\"DIVERTED\", T.IntegerType(), True),\n",
    "    T.StructField(\"CANCELLED\", T.IntegerType(), True),\n",
    "    T.StructField(\"CANCELLATION_REASON\", T.StringType(),  True),\n",
    "    T.StructField(\"AIR_SYSTEM_DELAY\", T.DoubleType(),  True),\n",
    "    T.StructField(\"SECURITY_DELAY\", T.DoubleType(),  True),\n",
    "    T.StructField(\"AIRLINE_DELAY\", T.DoubleType(),  True),\n",
    "    T.StructField(\"LATE_AIRCRAFT_DELAY\", T.DoubleType(),  True),\n",
    "    T.StructField(\"WEATHER_DELAY\", T.DoubleType(),  True),\n",
    "])\n",
    "\n",
    "fl_raw = (spark.read.option(\"header\", True).schema(flight_schema)\n",
    "          .csv(\"data/raw/flights.csv\"))\n",
    "\n",
    "fl_raw.show(10)\n"
   ]
  },
  {
   "cell_type": "code",
   "execution_count": 4,
   "id": "ddecf348",
   "metadata": {},
   "outputs": [
    {
     "name": "stdout",
     "output_type": "stream",
     "text": [
      "+---------+--------------------+\n",
      "|IATA_CODE|             AIRLINE|\n",
      "+---------+--------------------+\n",
      "|       UA|United Air Lines ...|\n",
      "|       AA|American Airlines...|\n",
      "|       US|     US Airways Inc.|\n",
      "|       F9|Frontier Airlines...|\n",
      "|       B6|     JetBlue Airways|\n",
      "|       OO|Skywest Airlines ...|\n",
      "|       AS|Alaska Airlines Inc.|\n",
      "|       NK|    Spirit Air Lines|\n",
      "|       WN|Southwest Airline...|\n",
      "|       DL|Delta Air Lines Inc.|\n",
      "|       EV|Atlantic Southeas...|\n",
      "|       HA|Hawaiian Airlines...|\n",
      "|       MQ|American Eagle Ai...|\n",
      "|       VX|      Virgin America|\n",
      "+---------+--------------------+\n",
      "\n"
     ]
    }
   ],
   "source": [
    "airline_schema = T.StructType([\n",
    "    T.StructField(\"IATA_CODE\", T.StringType(), True),\n",
    "    T.StructField(\"AIRLINE\",   T.StringType(), True),\n",
    "])\n",
    "\n",
    "airlines = (spark.read\n",
    "            .option(\"header\", True)\n",
    "            .schema(airline_schema)\n",
    "            .csv(\"data/raw/airlines.csv\"))\n",
    "\n",
    "airlines.show()"
   ]
  },
  {
   "cell_type": "code",
   "execution_count": 5,
   "id": "07864209",
   "metadata": {},
   "outputs": [
    {
     "name": "stdout",
     "output_type": "stream",
     "text": [
      "+---------+--------------------+-------------+-----+-------+--------+----------+\n",
      "|IATA_CODE|             AIRPORT|         CITY|STATE|COUNTRY|LATITUDE| LONGITUDE|\n",
      "+---------+--------------------+-------------+-----+-------+--------+----------+\n",
      "|      ABE|Lehigh Valley Int...|    Allentown|   PA|    USA|40.65236|  -75.4404|\n",
      "|      ABI|Abilene Regional ...|      Abilene|   TX|    USA|32.41132|  -99.6819|\n",
      "|      ABQ|Albuquerque Inter...|  Albuquerque|   NM|    USA|35.04022|-106.60919|\n",
      "|      ABR|Aberdeen Regional...|     Aberdeen|   SD|    USA|45.44906| -98.42183|\n",
      "|      ABY|Southwest Georgia...|       Albany|   GA|    USA|31.53552| -84.19447|\n",
      "|      ACK|Nantucket Memoria...|    Nantucket|   MA|    USA|41.25305| -70.06018|\n",
      "|      ACT|Waco Regional Air...|         Waco|   TX|    USA|31.61129| -97.23052|\n",
      "|      ACV|      Arcata Airport|Arcata/Eureka|   CA|    USA|40.97812|-124.10862|\n",
      "|      ACY|Atlantic City Int...|Atlantic City|   NJ|    USA|39.45758| -74.57717|\n",
      "|      ADK|        Adak Airport|         Adak|   AK|    USA|51.87796|-176.64603|\n",
      "|      ADQ|      Kodiak Airport|       Kodiak|   AK|    USA|57.74997|-152.49386|\n",
      "|      AEX|Alexandria Intern...|   Alexandria|   LA|    USA|31.32737| -92.54856|\n",
      "|      AGS|Augusta Regional ...|      Augusta|   GA|    USA|33.36996|  -81.9645|\n",
      "|      AKN| King Salmon Airport|  King Salmon|   AK|    USA| 58.6768|-156.64922|\n",
      "|      ALB|Albany Internatio...|       Albany|   NY|    USA|42.74812| -73.80298|\n",
      "|      ALO|Waterloo Regional...|     Waterloo|   IA|    USA|42.55708| -92.40034|\n",
      "|      AMA|Rick Husband Amar...|     Amarillo|   TX|    USA|35.21937|-101.70593|\n",
      "|      ANC|Ted Stevens Ancho...|    Anchorage|   AK|    USA|61.17432|-149.99619|\n",
      "|      APN|Alpena County Reg...|       Alpena|   MI|    USA|45.07807| -83.56029|\n",
      "|      ASE|Aspen-Pitkin Coun...|        Aspen|   CO|    USA|39.22316|-106.86885|\n",
      "+---------+--------------------+-------------+-----+-------+--------+----------+\n",
      "only showing top 20 rows\n"
     ]
    }
   ],
   "source": [
    "airport_schema = T.StructType([\n",
    "    T.StructField(\"IATA_CODE\", T.StringType(), True),\n",
    "    T.StructField(\"AIRPORT\",   T.StringType(), True),\n",
    "    T.StructField(\"CITY\",      T.StringType(), True),\n",
    "    T.StructField(\"STATE\",     T.StringType(), True),\n",
    "    T.StructField(\"COUNTRY\",   T.StringType(), True),\n",
    "    T.StructField(\"LATITUDE\",  T.DoubleType(), True),\n",
    "    T.StructField(\"LONGITUDE\", T.DoubleType(), True),\n",
    "])\n",
    "\n",
    "airports = (spark.read\n",
    "            .option(\"header\", True)\n",
    "            .schema(airport_schema)\n",
    "            .csv(\"data/raw/airports.csv\"))\n",
    "\n",
    "airports.show()"
   ]
  },
  {
   "cell_type": "markdown",
   "id": "307974d2",
   "metadata": {},
   "source": [
    "# Write Data"
   ]
  },
  {
   "cell_type": "code",
   "execution_count": 6,
   "id": "9bd5590f",
   "metadata": {},
   "outputs": [
    {
     "name": "stderr",
     "output_type": "stream",
     "text": [
      "25/09/20 15:13:58 WARN MemoryManager: Total allocation exceeds 95,00% (1.020.054.720 bytes) of heap memory\n",
      "Scaling row group sizes to 95,00% for 8 writers\n",
      "25/09/20 15:13:58 WARN MemoryManager: Total allocation exceeds 95,00% (1.020.054.720 bytes) of heap memory\n",
      "Scaling row group sizes to 84,44% for 9 writers\n",
      "25/09/20 15:13:58 WARN MemoryManager: Total allocation exceeds 95,00% (1.020.054.720 bytes) of heap memory\n",
      "Scaling row group sizes to 76,00% for 10 writers\n",
      "25/09/20 15:13:58 WARN MemoryManager: Total allocation exceeds 95,00% (1.020.054.720 bytes) of heap memory\n",
      "Scaling row group sizes to 69,09% for 11 writers\n",
      "25/09/20 15:13:58 WARN MemoryManager: Total allocation exceeds 95,00% (1.020.054.720 bytes) of heap memory\n",
      "Scaling row group sizes to 63,33% for 12 writers\n",
      "25/09/20 15:13:59 WARN MemoryManager: Total allocation exceeds 95,00% (1.020.054.720 bytes) of heap memory\n",
      "Scaling row group sizes to 69,09% for 11 writers\n",
      "25/09/20 15:13:59 WARN MemoryManager: Total allocation exceeds 95,00% (1.020.054.720 bytes) of heap memory\n",
      "Scaling row group sizes to 76,00% for 10 writers\n",
      "25/09/20 15:13:59 WARN MemoryManager: Total allocation exceeds 95,00% (1.020.054.720 bytes) of heap memory\n",
      "Scaling row group sizes to 84,44% for 9 writers\n",
      "25/09/20 15:13:59 WARN MemoryManager: Total allocation exceeds 95,00% (1.020.054.720 bytes) of heap memory\n",
      "Scaling row group sizes to 76,00% for 10 writers\n",
      "25/09/20 15:13:59 WARN MemoryManager: Total allocation exceeds 95,00% (1.020.054.720 bytes) of heap memory\n",
      "Scaling row group sizes to 84,44% for 9 writers\n",
      "25/09/20 15:13:59 WARN MemoryManager: Total allocation exceeds 95,00% (1.020.054.720 bytes) of heap memory\n",
      "Scaling row group sizes to 76,00% for 10 writers\n",
      "25/09/20 15:13:59 WARN MemoryManager: Total allocation exceeds 95,00% (1.020.054.720 bytes) of heap memory\n",
      "Scaling row group sizes to 69,09% for 11 writers\n",
      "25/09/20 15:13:59 WARN MemoryManager: Total allocation exceeds 95,00% (1.020.054.720 bytes) of heap memory\n",
      "Scaling row group sizes to 76,00% for 10 writers\n",
      "25/09/20 15:13:59 WARN MemoryManager: Total allocation exceeds 95,00% (1.020.054.720 bytes) of heap memory\n",
      "Scaling row group sizes to 69,09% for 11 writers\n",
      "25/09/20 15:13:59 WARN MemoryManager: Total allocation exceeds 95,00% (1.020.054.720 bytes) of heap memory\n",
      "Scaling row group sizes to 76,00% for 10 writers\n",
      "25/09/20 15:13:59 WARN MemoryManager: Total allocation exceeds 95,00% (1.020.054.720 bytes) of heap memory\n",
      "Scaling row group sizes to 84,44% for 9 writers\n",
      "25/09/20 15:13:59 WARN MemoryManager: Total allocation exceeds 95,00% (1.020.054.720 bytes) of heap memory\n",
      "Scaling row group sizes to 95,00% for 8 writers\n",
      "25/09/20 15:13:59 WARN MemoryManager: Total allocation exceeds 95,00% (1.020.054.720 bytes) of heap memory\n",
      "Scaling row group sizes to 84,44% for 9 writers\n",
      "25/09/20 15:13:59 WARN MemoryManager: Total allocation exceeds 95,00% (1.020.054.720 bytes) of heap memory\n",
      "Scaling row group sizes to 95,00% for 8 writers\n",
      "25/09/20 15:13:59 WARN MemoryManager: Total allocation exceeds 95,00% (1.020.054.720 bytes) of heap memory\n",
      "Scaling row group sizes to 95,00% for 8 writers\n",
      "25/09/20 15:13:59 WARN MemoryManager: Total allocation exceeds 95,00% (1.020.054.720 bytes) of heap memory\n",
      "Scaling row group sizes to 95,00% for 8 writers\n",
      "25/09/20 15:13:59 WARN MemoryManager: Total allocation exceeds 95,00% (1.020.054.720 bytes) of heap memory\n",
      "Scaling row group sizes to 84,44% for 9 writers\n",
      "25/09/20 15:13:59 WARN MemoryManager: Total allocation exceeds 95,00% (1.020.054.720 bytes) of heap memory\n",
      "Scaling row group sizes to 95,00% for 8 writers\n",
      "25/09/20 15:13:59 WARN MemoryManager: Total allocation exceeds 95,00% (1.020.054.720 bytes) of heap memory\n",
      "Scaling row group sizes to 84,44% for 9 writers\n",
      "25/09/20 15:13:59 WARN MemoryManager: Total allocation exceeds 95,00% (1.020.054.720 bytes) of heap memory\n",
      "Scaling row group sizes to 76,00% for 10 writers\n",
      "25/09/20 15:13:59 WARN MemoryManager: Total allocation exceeds 95,00% (1.020.054.720 bytes) of heap memory\n",
      "Scaling row group sizes to 84,44% for 9 writers\n",
      "25/09/20 15:13:59 WARN MemoryManager: Total allocation exceeds 95,00% (1.020.054.720 bytes) of heap memory\n",
      "Scaling row group sizes to 76,00% for 10 writers\n",
      "25/09/20 15:13:59 WARN MemoryManager: Total allocation exceeds 95,00% (1.020.054.720 bytes) of heap memory\n",
      "Scaling row group sizes to 69,09% for 11 writers\n",
      "25/09/20 15:13:59 WARN MemoryManager: Total allocation exceeds 95,00% (1.020.054.720 bytes) of heap memory\n",
      "Scaling row group sizes to 76,00% for 10 writers\n",
      "25/09/20 15:13:59 WARN MemoryManager: Total allocation exceeds 95,00% (1.020.054.720 bytes) of heap memory\n",
      "Scaling row group sizes to 84,44% for 9 writers\n",
      "25/09/20 15:13:59 WARN MemoryManager: Total allocation exceeds 95,00% (1.020.054.720 bytes) of heap memory\n",
      "Scaling row group sizes to 76,00% for 10 writers\n",
      "25/09/20 15:13:59 WARN MemoryManager: Total allocation exceeds 95,00% (1.020.054.720 bytes) of heap memory\n",
      "Scaling row group sizes to 84,44% for 9 writers\n",
      "25/09/20 15:13:59 WARN MemoryManager: Total allocation exceeds 95,00% (1.020.054.720 bytes) of heap memory\n",
      "Scaling row group sizes to 95,00% for 8 writers\n",
      "25/09/20 15:13:59 WARN MemoryManager: Total allocation exceeds 95,00% (1.020.054.720 bytes) of heap memory\n",
      "Scaling row group sizes to 95,00% for 8 writers\n",
      "25/09/20 15:13:59 WARN MemoryManager: Total allocation exceeds 95,00% (1.020.054.720 bytes) of heap memory\n",
      "Scaling row group sizes to 84,44% for 9 writers\n",
      "25/09/20 15:13:59 WARN MemoryManager: Total allocation exceeds 95,00% (1.020.054.720 bytes) of heap memory\n",
      "Scaling row group sizes to 95,00% for 8 writers\n",
      "25/09/20 15:13:59 WARN MemoryManager: Total allocation exceeds 95,00% (1.020.054.720 bytes) of heap memory\n",
      "Scaling row group sizes to 95,00% for 8 writers\n",
      "25/09/20 15:13:59 WARN MemoryManager: Total allocation exceeds 95,00% (1.020.054.720 bytes) of heap memory\n",
      "Scaling row group sizes to 84,44% for 9 writers\n",
      "25/09/20 15:13:59 WARN MemoryManager: Total allocation exceeds 95,00% (1.020.054.720 bytes) of heap memory\n",
      "Scaling row group sizes to 76,00% for 10 writers\n",
      "25/09/20 15:13:59 WARN MemoryManager: Total allocation exceeds 95,00% (1.020.054.720 bytes) of heap memory\n",
      "Scaling row group sizes to 69,09% for 11 writers\n",
      "25/09/20 15:13:59 WARN MemoryManager: Total allocation exceeds 95,00% (1.020.054.720 bytes) of heap memory\n",
      "Scaling row group sizes to 63,33% for 12 writers\n",
      "25/09/20 15:13:59 WARN MemoryManager: Total allocation exceeds 95,00% (1.020.054.720 bytes) of heap memory\n",
      "Scaling row group sizes to 69,09% for 11 writers\n",
      "25/09/20 15:13:59 WARN MemoryManager: Total allocation exceeds 95,00% (1.020.054.720 bytes) of heap memory\n",
      "Scaling row group sizes to 76,00% for 10 writers\n",
      "25/09/20 15:13:59 WARN MemoryManager: Total allocation exceeds 95,00% (1.020.054.720 bytes) of heap memory\n",
      "Scaling row group sizes to 84,44% for 9 writers\n",
      "25/09/20 15:13:59 WARN MemoryManager: Total allocation exceeds 95,00% (1.020.054.720 bytes) of heap memory\n",
      "Scaling row group sizes to 95,00% for 8 writers\n",
      "25/09/20 15:13:59 WARN MemoryManager: Total allocation exceeds 95,00% (1.020.054.720 bytes) of heap memory\n",
      "Scaling row group sizes to 84,44% for 9 writers\n",
      "25/09/20 15:13:59 WARN MemoryManager: Total allocation exceeds 95,00% (1.020.054.720 bytes) of heap memory\n",
      "Scaling row group sizes to 76,00% for 10 writers\n",
      "25/09/20 15:13:59 WARN MemoryManager: Total allocation exceeds 95,00% (1.020.054.720 bytes) of heap memory\n",
      "Scaling row group sizes to 84,44% for 9 writers\n",
      "25/09/20 15:13:59 WARN MemoryManager: Total allocation exceeds 95,00% (1.020.054.720 bytes) of heap memory\n",
      "Scaling row group sizes to 95,00% for 8 writers\n",
      "25/09/20 15:13:59 WARN MemoryManager: Total allocation exceeds 95,00% (1.020.054.720 bytes) of heap memory\n",
      "Scaling row group sizes to 84,44% for 9 writers\n",
      "25/09/20 15:13:59 WARN MemoryManager: Total allocation exceeds 95,00% (1.020.054.720 bytes) of heap memory\n",
      "Scaling row group sizes to 76,00% for 10 writers\n",
      "25/09/20 15:13:59 WARN MemoryManager: Total allocation exceeds 95,00% (1.020.054.720 bytes) of heap memory\n",
      "Scaling row group sizes to 84,44% for 9 writers\n",
      "25/09/20 15:13:59 WARN MemoryManager: Total allocation exceeds 95,00% (1.020.054.720 bytes) of heap memory\n",
      "Scaling row group sizes to 76,00% for 10 writers\n",
      "25/09/20 15:13:59 WARN MemoryManager: Total allocation exceeds 95,00% (1.020.054.720 bytes) of heap memory\n",
      "Scaling row group sizes to 69,09% for 11 writers\n",
      "25/09/20 15:13:59 WARN MemoryManager: Total allocation exceeds 95,00% (1.020.054.720 bytes) of heap memory\n",
      "Scaling row group sizes to 76,00% for 10 writers\n",
      "25/09/20 15:13:59 WARN MemoryManager: Total allocation exceeds 95,00% (1.020.054.720 bytes) of heap memory\n",
      "Scaling row group sizes to 84,44% for 9 writers\n",
      "25/09/20 15:13:59 WARN MemoryManager: Total allocation exceeds 95,00% (1.020.054.720 bytes) of heap memory\n",
      "Scaling row group sizes to 95,00% for 8 writers\n",
      "25/09/20 15:14:00 WARN MemoryManager: Total allocation exceeds 95,00% (1.020.054.720 bytes) of heap memory\n",
      "Scaling row group sizes to 95,00% for 8 writers\n",
      "25/09/20 15:14:00 WARN MemoryManager: Total allocation exceeds 95,00% (1.020.054.720 bytes) of heap memory\n",
      "Scaling row group sizes to 84,44% for 9 writers\n",
      "25/09/20 15:14:00 WARN MemoryManager: Total allocation exceeds 95,00% (1.020.054.720 bytes) of heap memory\n",
      "Scaling row group sizes to 76,00% for 10 writers\n",
      "25/09/20 15:14:00 WARN MemoryManager: Total allocation exceeds 95,00% (1.020.054.720 bytes) of heap memory\n",
      "Scaling row group sizes to 69,09% for 11 writers\n",
      "25/09/20 15:14:00 WARN MemoryManager: Total allocation exceeds 95,00% (1.020.054.720 bytes) of heap memory\n",
      "Scaling row group sizes to 63,33% for 12 writers\n",
      "25/09/20 15:14:00 WARN MemoryManager: Total allocation exceeds 95,00% (1.020.054.720 bytes) of heap memory\n",
      "Scaling row group sizes to 69,09% for 11 writers\n",
      "25/09/20 15:14:00 WARN MemoryManager: Total allocation exceeds 95,00% (1.020.054.720 bytes) of heap memory\n",
      "Scaling row group sizes to 76,00% for 10 writers\n",
      "25/09/20 15:14:00 WARN MemoryManager: Total allocation exceeds 95,00% (1.020.054.720 bytes) of heap memory\n",
      "Scaling row group sizes to 84,44% for 9 writers\n",
      "25/09/20 15:14:00 WARN MemoryManager: Total allocation exceeds 95,00% (1.020.054.720 bytes) of heap memory\n",
      "Scaling row group sizes to 76,00% for 10 writers\n",
      "25/09/20 15:14:00 WARN MemoryManager: Total allocation exceeds 95,00% (1.020.054.720 bytes) of heap memory\n",
      "Scaling row group sizes to 69,09% for 11 writers\n",
      "25/09/20 15:14:00 WARN MemoryManager: Total allocation exceeds 95,00% (1.020.054.720 bytes) of heap memory\n",
      "Scaling row group sizes to 63,33% for 12 writers\n",
      "25/09/20 15:14:00 WARN MemoryManager: Total allocation exceeds 95,00% (1.020.054.720 bytes) of heap memory\n",
      "Scaling row group sizes to 69,09% for 11 writers\n",
      "25/09/20 15:14:00 WARN MemoryManager: Total allocation exceeds 95,00% (1.020.054.720 bytes) of heap memory\n",
      "Scaling row group sizes to 76,00% for 10 writers\n",
      "25/09/20 15:14:00 WARN MemoryManager: Total allocation exceeds 95,00% (1.020.054.720 bytes) of heap memory\n",
      "Scaling row group sizes to 84,44% for 9 writers\n",
      "25/09/20 15:14:00 WARN MemoryManager: Total allocation exceeds 95,00% (1.020.054.720 bytes) of heap memory\n",
      "Scaling row group sizes to 95,00% for 8 writers\n",
      "25/09/20 15:14:00 WARN MemoryManager: Total allocation exceeds 95,00% (1.020.054.720 bytes) of heap memory\n",
      "Scaling row group sizes to 95,00% for 8 writers\n",
      "25/09/20 15:14:00 WARN MemoryManager: Total allocation exceeds 95,00% (1.020.054.720 bytes) of heap memory\n",
      "Scaling row group sizes to 84,44% for 9 writers\n",
      "25/09/20 15:14:00 WARN MemoryManager: Total allocation exceeds 95,00% (1.020.054.720 bytes) of heap memory\n",
      "Scaling row group sizes to 76,00% for 10 writers\n",
      "25/09/20 15:14:00 WARN MemoryManager: Total allocation exceeds 95,00% (1.020.054.720 bytes) of heap memory\n",
      "Scaling row group sizes to 69,09% for 11 writers\n",
      "25/09/20 15:14:00 WARN MemoryManager: Total allocation exceeds 95,00% (1.020.054.720 bytes) of heap memory\n",
      "Scaling row group sizes to 76,00% for 10 writers\n",
      "25/09/20 15:14:00 WARN MemoryManager: Total allocation exceeds 95,00% (1.020.054.720 bytes) of heap memory\n",
      "Scaling row group sizes to 84,44% for 9 writers\n",
      "25/09/20 15:14:00 WARN MemoryManager: Total allocation exceeds 95,00% (1.020.054.720 bytes) of heap memory\n",
      "Scaling row group sizes to 95,00% for 8 writers\n",
      "25/09/20 15:14:00 WARN MemoryManager: Total allocation exceeds 95,00% (1.020.054.720 bytes) of heap memory\n",
      "Scaling row group sizes to 84,44% for 9 writers\n",
      "25/09/20 15:14:00 WARN MemoryManager: Total allocation exceeds 95,00% (1.020.054.720 bytes) of heap memory\n",
      "Scaling row group sizes to 95,00% for 8 writers\n",
      "25/09/20 15:14:00 WARN MemoryManager: Total allocation exceeds 95,00% (1.020.054.720 bytes) of heap memory\n",
      "Scaling row group sizes to 95,00% for 8 writers\n",
      "25/09/20 15:14:00 WARN MemoryManager: Total allocation exceeds 95,00% (1.020.054.720 bytes) of heap memory\n",
      "Scaling row group sizes to 84,44% for 9 writers\n",
      "25/09/20 15:14:00 WARN MemoryManager: Total allocation exceeds 95,00% (1.020.054.720 bytes) of heap memory\n",
      "Scaling row group sizes to 95,00% for 8 writers\n",
      "25/09/20 15:14:00 WARN MemoryManager: Total allocation exceeds 95,00% (1.020.054.720 bytes) of heap memory\n",
      "Scaling row group sizes to 95,00% for 8 writers\n",
      "25/09/20 15:14:00 WARN MemoryManager: Total allocation exceeds 95,00% (1.020.054.720 bytes) of heap memory\n",
      "Scaling row group sizes to 84,44% for 9 writers\n",
      "25/09/20 15:14:00 WARN MemoryManager: Total allocation exceeds 95,00% (1.020.054.720 bytes) of heap memory\n",
      "Scaling row group sizes to 76,00% for 10 writers\n",
      "25/09/20 15:14:00 WARN MemoryManager: Total allocation exceeds 95,00% (1.020.054.720 bytes) of heap memory\n",
      "Scaling row group sizes to 84,44% for 9 writers\n",
      "25/09/20 15:14:00 WARN MemoryManager: Total allocation exceeds 95,00% (1.020.054.720 bytes) of heap memory\n",
      "Scaling row group sizes to 95,00% for 8 writers\n",
      "25/09/20 15:14:00 WARN MemoryManager: Total allocation exceeds 95,00% (1.020.054.720 bytes) of heap memory\n",
      "Scaling row group sizes to 95,00% for 8 writers\n",
      "25/09/20 15:14:00 WARN MemoryManager: Total allocation exceeds 95,00% (1.020.054.720 bytes) of heap memory\n",
      "Scaling row group sizes to 95,00% for 8 writers\n",
      "25/09/20 15:14:00 WARN MemoryManager: Total allocation exceeds 95,00% (1.020.054.720 bytes) of heap memory\n",
      "Scaling row group sizes to 84,44% for 9 writers\n",
      "25/09/20 15:14:00 WARN MemoryManager: Total allocation exceeds 95,00% (1.020.054.720 bytes) of heap memory\n",
      "Scaling row group sizes to 76,00% for 10 writers\n",
      "25/09/20 15:14:00 WARN MemoryManager: Total allocation exceeds 95,00% (1.020.054.720 bytes) of heap memory\n",
      "Scaling row group sizes to 84,44% for 9 writers\n",
      "25/09/20 15:14:00 WARN MemoryManager: Total allocation exceeds 95,00% (1.020.054.720 bytes) of heap memory\n",
      "Scaling row group sizes to 95,00% for 8 writers\n",
      "25/09/20 15:14:00 WARN MemoryManager: Total allocation exceeds 95,00% (1.020.054.720 bytes) of heap memory\n",
      "Scaling row group sizes to 95,00% for 8 writers\n",
      "25/09/20 15:14:00 WARN MemoryManager: Total allocation exceeds 95,00% (1.020.054.720 bytes) of heap memory\n",
      "Scaling row group sizes to 95,00% for 8 writers\n",
      "25/09/20 15:14:00 WARN MemoryManager: Total allocation exceeds 95,00% (1.020.054.720 bytes) of heap memory\n",
      "Scaling row group sizes to 84,44% for 9 writers\n",
      "25/09/20 15:14:00 WARN MemoryManager: Total allocation exceeds 95,00% (1.020.054.720 bytes) of heap memory\n",
      "Scaling row group sizes to 76,00% for 10 writers\n",
      "25/09/20 15:14:01 WARN MemoryManager: Total allocation exceeds 95,00% (1.020.054.720 bytes) of heap memory\n",
      "Scaling row group sizes to 84,44% for 9 writers\n",
      "25/09/20 15:14:01 WARN MemoryManager: Total allocation exceeds 95,00% (1.020.054.720 bytes) of heap memory\n",
      "Scaling row group sizes to 95,00% for 8 writers\n",
      "25/09/20 15:14:01 WARN MemoryManager: Total allocation exceeds 95,00% (1.020.054.720 bytes) of heap memory\n",
      "Scaling row group sizes to 84,44% for 9 writers\n",
      "25/09/20 15:14:01 WARN MemoryManager: Total allocation exceeds 95,00% (1.020.054.720 bytes) of heap memory\n",
      "Scaling row group sizes to 95,00% for 8 writers\n",
      "25/09/20 15:14:01 WARN MemoryManager: Total allocation exceeds 95,00% (1.020.054.720 bytes) of heap memory\n",
      "Scaling row group sizes to 95,00% for 8 writers\n",
      "25/09/20 15:14:01 WARN MemoryManager: Total allocation exceeds 95,00% (1.020.054.720 bytes) of heap memory\n",
      "Scaling row group sizes to 84,44% for 9 writers\n",
      "25/09/20 15:14:01 WARN MemoryManager: Total allocation exceeds 95,00% (1.020.054.720 bytes) of heap memory\n",
      "Scaling row group sizes to 76,00% for 10 writers\n",
      "25/09/20 15:14:01 WARN MemoryManager: Total allocation exceeds 95,00% (1.020.054.720 bytes) of heap memory\n",
      "Scaling row group sizes to 84,44% for 9 writers\n",
      "25/09/20 15:14:01 WARN MemoryManager: Total allocation exceeds 95,00% (1.020.054.720 bytes) of heap memory\n",
      "Scaling row group sizes to 76,00% for 10 writers\n",
      "25/09/20 15:14:01 WARN MemoryManager: Total allocation exceeds 95,00% (1.020.054.720 bytes) of heap memory\n",
      "Scaling row group sizes to 84,44% for 9 writers\n",
      "25/09/20 15:14:01 WARN MemoryManager: Total allocation exceeds 95,00% (1.020.054.720 bytes) of heap memory\n",
      "Scaling row group sizes to 95,00% for 8 writers\n",
      "25/09/20 15:14:01 WARN MemoryManager: Total allocation exceeds 95,00% (1.020.054.720 bytes) of heap memory\n",
      "Scaling row group sizes to 95,00% for 8 writers\n",
      "25/09/20 15:14:01 WARN MemoryManager: Total allocation exceeds 95,00% (1.020.054.720 bytes) of heap memory\n",
      "Scaling row group sizes to 84,44% for 9 writers\n",
      "25/09/20 15:14:01 WARN MemoryManager: Total allocation exceeds 95,00% (1.020.054.720 bytes) of heap memory\n",
      "Scaling row group sizes to 76,00% for 10 writers\n",
      "25/09/20 15:14:01 WARN MemoryManager: Total allocation exceeds 95,00% (1.020.054.720 bytes) of heap memory\n",
      "Scaling row group sizes to 69,09% for 11 writers\n",
      "25/09/20 15:14:01 WARN MemoryManager: Total allocation exceeds 95,00% (1.020.054.720 bytes) of heap memory\n",
      "Scaling row group sizes to 76,00% for 10 writers\n",
      "25/09/20 15:14:01 WARN MemoryManager: Total allocation exceeds 95,00% (1.020.054.720 bytes) of heap memory\n",
      "Scaling row group sizes to 84,44% for 9 writers\n",
      "25/09/20 15:14:01 WARN MemoryManager: Total allocation exceeds 95,00% (1.020.054.720 bytes) of heap memory\n",
      "Scaling row group sizes to 95,00% for 8 writers\n",
      "25/09/20 15:14:01 WARN MemoryManager: Total allocation exceeds 95,00% (1.020.054.720 bytes) of heap memory\n",
      "Scaling row group sizes to 95,00% for 8 writers\n",
      "25/09/20 15:14:01 WARN MemoryManager: Total allocation exceeds 95,00% (1.020.054.720 bytes) of heap memory\n",
      "Scaling row group sizes to 84,44% for 9 writers\n",
      "25/09/20 15:14:01 WARN MemoryManager: Total allocation exceeds 95,00% (1.020.054.720 bytes) of heap memory\n",
      "Scaling row group sizes to 76,00% for 10 writers\n",
      "25/09/20 15:14:01 WARN MemoryManager: Total allocation exceeds 95,00% (1.020.054.720 bytes) of heap memory\n",
      "Scaling row group sizes to 84,44% for 9 writers\n",
      "25/09/20 15:14:01 WARN MemoryManager: Total allocation exceeds 95,00% (1.020.054.720 bytes) of heap memory\n",
      "Scaling row group sizes to 76,00% for 10 writers\n",
      "25/09/20 15:14:01 WARN MemoryManager: Total allocation exceeds 95,00% (1.020.054.720 bytes) of heap memory\n",
      "Scaling row group sizes to 84,44% for 9 writers\n",
      "25/09/20 15:14:01 WARN MemoryManager: Total allocation exceeds 95,00% (1.020.054.720 bytes) of heap memory\n",
      "Scaling row group sizes to 95,00% for 8 writers\n",
      "                                                                                \r"
     ]
    }
   ],
   "source": [
    "from pyspark.sql import functions as F\n",
    "\n",
    "fl = fl_raw.withColumn(\n",
    "    \"FL_DATE\",\n",
    "    F.to_date(F.format_string(\"%04d-%02d-%02d\", F.col(\"YEAR\"), F.col(\"MONTH\"), F.col(\"DAY\")))\n",
    ")\n",
    "\n",
    "\n",
    "(fl.write.mode(\"overwrite\")\n",
    "   .partitionBy(\"YEAR\",\"MONTH\")\n",
    "   .parquet(\"data/lake/flights_parquet\"))\n",
    "\n",
    "airlines.write.mode(\"overwrite\").parquet(\"data/lake/airlines_parquet\")\n",
    "airports.write.mode(\"overwrite\").parquet(\"data/lake/airports_parquet\")\n"
   ]
  },
  {
   "cell_type": "markdown",
   "id": "ab1c81f8",
   "metadata": {},
   "source": [
    "# Read Parquet"
   ]
  },
  {
   "cell_type": "code",
   "execution_count": 7,
   "id": "1d4497af",
   "metadata": {},
   "outputs": [],
   "source": [
    "flights = spark.read.parquet(\"data/lake/flights_parquet\")\n",
    "airlines = spark.read.parquet(\"data/lake/airlines_parquet\")\n",
    "airports = spark.read.parquet(\"data/lake/airports_parquet\")"
   ]
  },
  {
   "cell_type": "markdown",
   "id": "a46093a8",
   "metadata": {},
   "source": [
    "# Transformations"
   ]
  },
  {
   "cell_type": "code",
   "execution_count": 8,
   "id": "6ce5cab0",
   "metadata": {},
   "outputs": [],
   "source": [
    "@F.udf(returnType=T.IntegerType())\n",
    "def hhmm_to_hour_safe(x):\n",
    "    if x is None:\n",
    "        return None\n",
    "    try:\n",
    "        v = int(x)\n",
    "        if v == 2400:\n",
    "            return 0\n",
    "        if v < 0:\n",
    "            return None\n",
    "        hh, mm = v // 100, v % 100\n",
    "        return hh if 0 <= hh <= 23 and 0 <= mm <= 59 else None\n",
    "    except Exception:\n",
    "        return None"
   ]
  },
  {
   "cell_type": "code",
   "execution_count": 9,
   "id": "a4720845",
   "metadata": {},
   "outputs": [],
   "source": [
    "_cc_map = {\"A\": \"Carrier\", \"B\": \"Weather\", \"C\": \"NAS\", \"D\": \"Security\"}\n",
    "@F.udf(T.StringType())\n",
    "def cancel_code_to_label(c):\n",
    "    if c is None:\n",
    "        return None\n",
    "    return _cc_map.get(str(c).strip().upper(), \"Other/Unknown\")"
   ]
  },
  {
   "cell_type": "code",
   "execution_count": 10,
   "id": "34e6382b",
   "metadata": {},
   "outputs": [
    {
     "name": "stderr",
     "output_type": "stream",
     "text": [
      "[Stage 9:>                                                          (0 + 1) / 1]\r"
     ]
    },
    {
     "name": "stdout",
     "output_type": "stream",
     "text": [
      "+----------+---+-----------+--------+-------------+-------------+-------------------+\n",
      "|   FL_DATE|DOW|DAY_OF_WEEK|DEP_HOUR|DEP_HOUR_SAFE|IS_DELAYED_15|CANCEL_REASON_LABEL|\n",
      "+----------+---+-----------+--------+-------------+-------------+-------------------+\n",
      "|2015-07-13|Mon|          1|      20|           20|            1|               NULL|\n",
      "|2015-07-16|Thu|          4|      13|           13|            0|               NULL|\n",
      "|2015-07-30|Thu|          4|       9|            9|            0|               NULL|\n",
      "|2015-07-07|Tue|          2|       8|            8|            0|               NULL|\n",
      "|2015-07-17|Fri|          5|       6|            6|            0|               NULL|\n",
      "|2015-07-15|Wed|          3|      14|           14|            0|               NULL|\n",
      "|2015-07-19|Sun|          7|      11|           11|            1|               NULL|\n",
      "|2015-07-02|Thu|          4|      21|           21|            0|               NULL|\n",
      "|2015-07-10|Fri|          5|       8|            8|            0|               NULL|\n",
      "|2015-07-03|Fri|          5|      19|           19|            0|               NULL|\n",
      "+----------+---+-----------+--------+-------------+-------------+-------------------+\n",
      "only showing top 10 rows\n"
     ]
    },
    {
     "name": "stderr",
     "output_type": "stream",
     "text": [
      "                                                                                \r"
     ]
    }
   ],
   "source": [
    "flights_transformed = (flights\n",
    "    .withColumn(\"DEP_HOUR\", (F.col(\"SCHEDULED_DEPARTURE\")/100).cast(\"int\")) # native\n",
    "    .withColumn(\"DEP_HOUR_SAFE\", hhmm_to_hour_safe(\"SCHEDULED_DEPARTURE\")) # UDF\n",
    "    .withColumn(\"IS_DELAYED_15\", (F.col(\"ARRIVAL_DELAY\") >= 15).cast(\"int\")) # native\n",
    "    .withColumn(\"DOW\", F.date_format(\"FL_DATE\", \"E\")) # native\n",
    "    .withColumn(\"CANCEL_REASON_LABEL\", cancel_code_to_label(\"CANCELLATION_REASON\")) # UDF\n",
    ")\n",
    "\n",
    "flights_transformed.select(\"FL_DATE\",\"DOW\",\"DAY_OF_WEEK\", \"DEP_HOUR\",\"DEP_HOUR_SAFE\",\"IS_DELAYED_15\", \"CANCEL_REASON_LABEL\").show(10)\n"
   ]
  },
  {
   "cell_type": "markdown",
   "id": "10623f3b",
   "metadata": {},
   "source": [
    "# Enrichment"
   ]
  },
  {
   "cell_type": "code",
   "execution_count": 11,
   "id": "d8065fae",
   "metadata": {},
   "outputs": [
    {
     "name": "stdout",
     "output_type": "stream",
     "text": [
      "+--------------------+-------+\n",
      "|        CARRIER_NAME|AIRLINE|\n",
      "+--------------------+-------+\n",
      "|Southwest Airline...|     WN|\n",
      "|American Airlines...|     AA|\n",
      "|American Airlines...|     AA|\n",
      "|Southwest Airline...|     WN|\n",
      "|Skywest Airlines ...|     OO|\n",
      "|Skywest Airlines ...|     OO|\n",
      "|Delta Air Lines Inc.|     DL|\n",
      "|American Airlines...|     AA|\n",
      "|Delta Air Lines Inc.|     DL|\n",
      "|Delta Air Lines Inc.|     DL|\n",
      "+--------------------+-------+\n",
      "only showing top 10 rows\n"
     ]
    }
   ],
   "source": [
    "# Airlines Join\n",
    "alN = airlines.withColumnRenamed(\"AIRLINE\", \"CARRIER_NAME\")\n",
    "flights_airlines_enriched = flights_transformed.join(F.broadcast(alN), flights_transformed.AIRLINE == alN.IATA_CODE, \"left\")\n",
    "\n",
    "flights_airlines_enriched.select(\"CARRIER_NAME\", \"AIRLINE\").show(10)\n"
   ]
  },
  {
   "cell_type": "code",
   "execution_count": 12,
   "id": "c2c074ed",
   "metadata": {},
   "outputs": [
    {
     "name": "stdout",
     "output_type": "stream",
     "text": [
      "+--------------------+--------------------+--------------------+\n",
      "|        CARRIER_NAME| ORIGIN_AIRPORT_NAME|   DEST_AIRPORT_NAME|\n",
      "+--------------------+--------------------+--------------------+\n",
      "|Southwest Airline...|Baltimore-Washing...|McCarran Internat...|\n",
      "|American Airlines...|Miami Internation...|Chicago O'Hare In...|\n",
      "|American Airlines...|LaGuardia Airport...|Chicago O'Hare In...|\n",
      "|Southwest Airline...|John Wayne Airpor...|Oakland Internati...|\n",
      "|Skywest Airlines ...|Nashville Interna...|Cincinnati/Northe...|\n",
      "|Skywest Airlines ...|George Bush Inter...|El Paso Internati...|\n",
      "|Delta Air Lines Inc.|Los Angeles Inter...|John F. Kennedy I...|\n",
      "|American Airlines...|Philadelphia Inte...|Gen. Edward Lawre...|\n",
      "|Delta Air Lines Inc.|Salt Lake City In...|Minneapolis-Saint...|\n",
      "|Delta Air Lines Inc.|Hartsfield-Jackso...|Salt Lake City In...|\n",
      "+--------------------+--------------------+--------------------+\n",
      "only showing top 10 rows\n"
     ]
    }
   ],
   "source": [
    "# Airport Join\n",
    "airports_origin = airports.select(F.col(\"IATA_CODE\").alias(\"ORIGIN_CODE\"),\n",
    "                F.col(\"AIRPORT\").alias(\"ORIGIN_AIRPORT_NAME\"),\n",
    "                F.col(\"STATE\").alias(\"ORIGIN_STATE\"))\n",
    "\n",
    "airports_dest = airports.select(F.col(\"IATA_CODE\").alias(\"DEST_CODE\"),\n",
    "                F.col(\"AIRPORT\").alias(\"DEST_AIRPORT_NAME\"),\n",
    "                F.col(\"STATE\").alias(\"DEST_STATE\"))\n",
    "\n",
    "flights_enriched = (flights_airlines_enriched\n",
    "  .join(F.broadcast(airports_origin), flights_airlines_enriched.ORIGIN_AIRPORT == F.col(\"ORIGIN_CODE\"), \"left\")\n",
    "  .join(F.broadcast(airports_dest), flights_airlines_enriched.DESTINATION_AIRPORT == F.col(\"DEST_CODE\"), \"left\"))\n",
    "\n",
    "flights_enriched.select(\"CARRIER_NAME\", \"ORIGIN_AIRPORT_NAME\", \"DEST_AIRPORT_NAME\").show(10)"
   ]
  },
  {
   "cell_type": "code",
   "execution_count": 13,
   "id": "55192ba1",
   "metadata": {},
   "outputs": [
    {
     "name": "stderr",
     "output_type": "stream",
     "text": [
      "25/09/20 15:14:18 WARN MemoryManager: Total allocation exceeds 95,00% (1.020.054.720 bytes) of heap memory\n",
      "Scaling row group sizes to 95,00% for 8 writers\n",
      "25/09/20 15:14:18 WARN MemoryManager: Total allocation exceeds 95,00% (1.020.054.720 bytes) of heap memory\n",
      "Scaling row group sizes to 84,44% for 9 writers\n",
      "25/09/20 15:14:18 WARN MemoryManager: Total allocation exceeds 95,00% (1.020.054.720 bytes) of heap memory\n",
      "Scaling row group sizes to 76,00% for 10 writers\n",
      "25/09/20 15:14:18 WARN MemoryManager: Total allocation exceeds 95,00% (1.020.054.720 bytes) of heap memory\n",
      "Scaling row group sizes to 69,09% for 11 writers\n",
      "25/09/20 15:14:18 WARN MemoryManager: Total allocation exceeds 95,00% (1.020.054.720 bytes) of heap memory\n",
      "Scaling row group sizes to 76,00% for 10 writers\n",
      "25/09/20 15:14:18 WARN MemoryManager: Total allocation exceeds 95,00% (1.020.054.720 bytes) of heap memory\n",
      "Scaling row group sizes to 69,09% for 11 writers\n",
      "25/09/20 15:14:18 WARN MemoryManager: Total allocation exceeds 95,00% (1.020.054.720 bytes) of heap memory\n",
      "Scaling row group sizes to 76,00% for 10 writers\n",
      "25/09/20 15:14:18 WARN MemoryManager: Total allocation exceeds 95,00% (1.020.054.720 bytes) of heap memory\n",
      "Scaling row group sizes to 69,09% for 11 writers\n",
      "25/09/20 15:14:18 WARN MemoryManager: Total allocation exceeds 95,00% (1.020.054.720 bytes) of heap memory\n",
      "Scaling row group sizes to 63,33% for 12 writers\n",
      "25/09/20 15:14:18 WARN MemoryManager: Total allocation exceeds 95,00% (1.020.054.720 bytes) of heap memory\n",
      "Scaling row group sizes to 69,09% for 11 writers\n",
      "25/09/20 15:14:19 WARN MemoryManager: Total allocation exceeds 95,00% (1.020.054.720 bytes) of heap memory\n",
      "Scaling row group sizes to 76,00% for 10 writers\n",
      "25/09/20 15:14:19 WARN MemoryManager: Total allocation exceeds 95,00% (1.020.054.720 bytes) of heap memory\n",
      "Scaling row group sizes to 69,09% for 11 writers\n",
      "25/09/20 15:14:19 WARN MemoryManager: Total allocation exceeds 95,00% (1.020.054.720 bytes) of heap memory\n",
      "Scaling row group sizes to 63,33% for 12 writers\n",
      "25/09/20 15:14:19 WARN MemoryManager: Total allocation exceeds 95,00% (1.020.054.720 bytes) of heap memory\n",
      "Scaling row group sizes to 69,09% for 11 writers\n",
      "25/09/20 15:14:19 WARN MemoryManager: Total allocation exceeds 95,00% (1.020.054.720 bytes) of heap memory\n",
      "Scaling row group sizes to 63,33% for 12 writers\n",
      "25/09/20 15:14:19 WARN MemoryManager: Total allocation exceeds 95,00% (1.020.054.720 bytes) of heap memory\n",
      "Scaling row group sizes to 69,09% for 11 writers\n",
      "25/09/20 15:14:19 WARN MemoryManager: Total allocation exceeds 95,00% (1.020.054.720 bytes) of heap memory\n",
      "Scaling row group sizes to 76,00% for 10 writers\n",
      "25/09/20 15:14:19 WARN MemoryManager: Total allocation exceeds 95,00% (1.020.054.720 bytes) of heap memory\n",
      "Scaling row group sizes to 84,44% for 9 writers\n",
      "25/09/20 15:14:19 WARN MemoryManager: Total allocation exceeds 95,00% (1.020.054.720 bytes) of heap memory\n",
      "Scaling row group sizes to 95,00% for 8 writers\n",
      "25/09/20 15:14:19 WARN MemoryManager: Total allocation exceeds 95,00% (1.020.054.720 bytes) of heap memory\n",
      "Scaling row group sizes to 84,44% for 9 writers\n",
      "25/09/20 15:14:19 WARN MemoryManager: Total allocation exceeds 95,00% (1.020.054.720 bytes) of heap memory\n",
      "Scaling row group sizes to 76,00% for 10 writers\n",
      "25/09/20 15:14:19 WARN MemoryManager: Total allocation exceeds 95,00% (1.020.054.720 bytes) of heap memory\n",
      "Scaling row group sizes to 69,09% for 11 writers\n",
      "25/09/20 15:14:19 WARN MemoryManager: Total allocation exceeds 95,00% (1.020.054.720 bytes) of heap memory\n",
      "Scaling row group sizes to 63,33% for 12 writers\n",
      "25/09/20 15:14:19 WARN MemoryManager: Total allocation exceeds 95,00% (1.020.054.720 bytes) of heap memory\n",
      "Scaling row group sizes to 69,09% for 11 writers\n",
      "25/09/20 15:14:19 WARN MemoryManager: Total allocation exceeds 95,00% (1.020.054.720 bytes) of heap memory\n",
      "Scaling row group sizes to 76,00% for 10 writers\n",
      "25/09/20 15:14:19 WARN MemoryManager: Total allocation exceeds 95,00% (1.020.054.720 bytes) of heap memory\n",
      "Scaling row group sizes to 84,44% for 9 writers\n",
      "25/09/20 15:14:19 WARN MemoryManager: Total allocation exceeds 95,00% (1.020.054.720 bytes) of heap memory\n",
      "Scaling row group sizes to 95,00% for 8 writers\n",
      "25/09/20 15:14:19 WARN MemoryManager: Total allocation exceeds 95,00% (1.020.054.720 bytes) of heap memory\n",
      "Scaling row group sizes to 95,00% for 8 writers\n",
      "25/09/20 15:14:19 WARN MemoryManager: Total allocation exceeds 95,00% (1.020.054.720 bytes) of heap memory\n",
      "Scaling row group sizes to 84,44% for 9 writers\n",
      "25/09/20 15:14:19 WARN MemoryManager: Total allocation exceeds 95,00% (1.020.054.720 bytes) of heap memory\n",
      "Scaling row group sizes to 76,00% for 10 writers\n",
      "25/09/20 15:14:19 WARN MemoryManager: Total allocation exceeds 95,00% (1.020.054.720 bytes) of heap memory\n",
      "Scaling row group sizes to 69,09% for 11 writers\n",
      "25/09/20 15:14:19 WARN MemoryManager: Total allocation exceeds 95,00% (1.020.054.720 bytes) of heap memory\n",
      "Scaling row group sizes to 76,00% for 10 writers\n",
      "25/09/20 15:14:19 WARN MemoryManager: Total allocation exceeds 95,00% (1.020.054.720 bytes) of heap memory\n",
      "Scaling row group sizes to 84,44% for 9 writers\n",
      "25/09/20 15:14:19 WARN MemoryManager: Total allocation exceeds 95,00% (1.020.054.720 bytes) of heap memory\n",
      "Scaling row group sizes to 95,00% for 8 writers\n",
      "25/09/20 15:14:19 WARN MemoryManager: Total allocation exceeds 95,00% (1.020.054.720 bytes) of heap memory\n",
      "Scaling row group sizes to 95,00% for 8 writers\n",
      "25/09/20 15:14:19 WARN MemoryManager: Total allocation exceeds 95,00% (1.020.054.720 bytes) of heap memory\n",
      "Scaling row group sizes to 84,44% for 9 writers\n",
      "25/09/20 15:14:19 WARN MemoryManager: Total allocation exceeds 95,00% (1.020.054.720 bytes) of heap memory\n",
      "Scaling row group sizes to 76,00% for 10 writers\n",
      "25/09/20 15:14:19 WARN MemoryManager: Total allocation exceeds 95,00% (1.020.054.720 bytes) of heap memory\n",
      "Scaling row group sizes to 69,09% for 11 writers\n",
      "25/09/20 15:14:19 WARN MemoryManager: Total allocation exceeds 95,00% (1.020.054.720 bytes) of heap memory\n",
      "Scaling row group sizes to 76,00% for 10 writers\n",
      "25/09/20 15:14:19 WARN MemoryManager: Total allocation exceeds 95,00% (1.020.054.720 bytes) of heap memory\n",
      "Scaling row group sizes to 84,44% for 9 writers\n",
      "25/09/20 15:14:19 WARN MemoryManager: Total allocation exceeds 95,00% (1.020.054.720 bytes) of heap memory\n",
      "Scaling row group sizes to 95,00% for 8 writers\n",
      "25/09/20 15:14:19 WARN MemoryManager: Total allocation exceeds 95,00% (1.020.054.720 bytes) of heap memory\n",
      "Scaling row group sizes to 95,00% for 8 writers\n",
      "25/09/20 15:14:19 WARN MemoryManager: Total allocation exceeds 95,00% (1.020.054.720 bytes) of heap memory\n",
      "Scaling row group sizes to 95,00% for 8 writers\n",
      "25/09/20 15:14:19 WARN MemoryManager: Total allocation exceeds 95,00% (1.020.054.720 bytes) of heap memory\n",
      "Scaling row group sizes to 84,44% for 9 writers\n",
      "25/09/20 15:14:19 WARN MemoryManager: Total allocation exceeds 95,00% (1.020.054.720 bytes) of heap memory\n",
      "Scaling row group sizes to 76,00% for 10 writers\n",
      "25/09/20 15:14:19 WARN MemoryManager: Total allocation exceeds 95,00% (1.020.054.720 bytes) of heap memory\n",
      "Scaling row group sizes to 69,09% for 11 writers\n",
      "25/09/20 15:14:19 WARN MemoryManager: Total allocation exceeds 95,00% (1.020.054.720 bytes) of heap memory\n",
      "Scaling row group sizes to 76,00% for 10 writers\n",
      "25/09/20 15:14:19 WARN MemoryManager: Total allocation exceeds 95,00% (1.020.054.720 bytes) of heap memory\n",
      "Scaling row group sizes to 84,44% for 9 writers\n",
      "25/09/20 15:14:19 WARN MemoryManager: Total allocation exceeds 95,00% (1.020.054.720 bytes) of heap memory\n",
      "Scaling row group sizes to 95,00% for 8 writers\n",
      "25/09/20 15:14:19 WARN MemoryManager: Total allocation exceeds 95,00% (1.020.054.720 bytes) of heap memory\n",
      "Scaling row group sizes to 95,00% for 8 writers\n",
      "25/09/20 15:14:19 WARN MemoryManager: Total allocation exceeds 95,00% (1.020.054.720 bytes) of heap memory\n",
      "Scaling row group sizes to 95,00% for 8 writers\n",
      "25/09/20 15:14:20 WARN MemoryManager: Total allocation exceeds 95,00% (1.020.054.720 bytes) of heap memory\n",
      "Scaling row group sizes to 95,00% for 8 writers\n",
      "25/09/20 15:14:20 WARN MemoryManager: Total allocation exceeds 95,00% (1.020.054.720 bytes) of heap memory\n",
      "Scaling row group sizes to 84,44% for 9 writers\n",
      "25/09/20 15:14:20 WARN MemoryManager: Total allocation exceeds 95,00% (1.020.054.720 bytes) of heap memory\n",
      "Scaling row group sizes to 95,00% for 8 writers\n",
      "25/09/20 15:14:20 WARN MemoryManager: Total allocation exceeds 95,00% (1.020.054.720 bytes) of heap memory\n",
      "Scaling row group sizes to 84,44% for 9 writers\n",
      "25/09/20 15:14:20 WARN MemoryManager: Total allocation exceeds 95,00% (1.020.054.720 bytes) of heap memory\n",
      "Scaling row group sizes to 95,00% for 8 writers\n",
      "25/09/20 15:14:20 WARN MemoryManager: Total allocation exceeds 95,00% (1.020.054.720 bytes) of heap memory\n",
      "Scaling row group sizes to 95,00% for 8 writers\n",
      "25/09/20 15:14:20 WARN MemoryManager: Total allocation exceeds 95,00% (1.020.054.720 bytes) of heap memory\n",
      "Scaling row group sizes to 84,44% for 9 writers\n",
      "25/09/20 15:14:20 WARN MemoryManager: Total allocation exceeds 95,00% (1.020.054.720 bytes) of heap memory\n",
      "Scaling row group sizes to 76,00% for 10 writers\n",
      "25/09/20 15:14:20 WARN MemoryManager: Total allocation exceeds 95,00% (1.020.054.720 bytes) of heap memory\n",
      "Scaling row group sizes to 84,44% for 9 writers\n",
      "25/09/20 15:14:20 WARN MemoryManager: Total allocation exceeds 95,00% (1.020.054.720 bytes) of heap memory\n",
      "Scaling row group sizes to 95,00% for 8 writers\n",
      "                                                                                \r"
     ]
    }
   ],
   "source": [
    "# Save enriched data\n",
    "(flights_enriched.write.mode(\"overwrite\")\n",
    "   .partitionBy(\"YEAR\",\"MONTH\")\n",
    "   .parquet(\"data/lake/enriched_parquet\"))\n"
   ]
  },
  {
   "cell_type": "markdown",
   "id": "4f8022af",
   "metadata": {},
   "source": [
    "# Flights Analysis (Filtering & Aggregating)"
   ]
  },
  {
   "cell_type": "code",
   "execution_count": 14,
   "id": "9ba2f1ae",
   "metadata": {},
   "outputs": [
    {
     "name": "stdout",
     "output_type": "stream",
     "text": [
      "+---+-----------+-------+-------------+-----------+--------------+-------------------+-------------------+--------------+---------------+--------+----------+--------------+------------+--------+--------+---------+-------+-----------------+------------+-------------+--------+---------+-------------------+----------------+--------------+-------------+-------------------+-------------+----------+--------+-------------+-------------+---+-------------------+---------+--------------------+-----------+--------------------+------------+---------+--------------------+----------+----+-----+\n",
      "|DAY|DAY_OF_WEEK|AIRLINE|FLIGHT_NUMBER|TAIL_NUMBER|ORIGIN_AIRPORT|DESTINATION_AIRPORT|SCHEDULED_DEPARTURE|DEPARTURE_TIME|DEPARTURE_DELAY|TAXI_OUT|WHEELS_OFF|SCHEDULED_TIME|ELAPSED_TIME|AIR_TIME|DISTANCE|WHEELS_ON|TAXI_IN|SCHEDULED_ARRIVAL|ARRIVAL_TIME|ARRIVAL_DELAY|DIVERTED|CANCELLED|CANCELLATION_REASON|AIR_SYSTEM_DELAY|SECURITY_DELAY|AIRLINE_DELAY|LATE_AIRCRAFT_DELAY|WEATHER_DELAY|   FL_DATE|DEP_HOUR|DEP_HOUR_SAFE|IS_DELAYED_15|DOW|CANCEL_REASON_LABEL|IATA_CODE|        CARRIER_NAME|ORIGIN_CODE| ORIGIN_AIRPORT_NAME|ORIGIN_STATE|DEST_CODE|   DEST_AIRPORT_NAME|DEST_STATE|YEAR|MONTH|\n",
      "+---+-----------+-------+-------------+-----------+--------------+-------------------+-------------------+--------------+---------------+--------+----------+--------------+------------+--------+--------+---------+-------+-----------------+------------+-------------+--------+---------+-------------------+----------------+--------------+-------------+-------------------+-------------+----------+--------+-------------+-------------+---+-------------------+---------+--------------------+-----------+--------------------+------------+---------+--------------------+----------+----+-----+\n",
      "| 22|          7|     WN|         2139|     N8630B|           MSP|                MDW|               1105|          NULL|           -1.0|    17.0|      NULL|          90.0|        83.0|    61.0|   349.0|     NULL|    5.0|             1235|        NULL|         -8.0|       0|        0|               NULL|            NULL|          NULL|         NULL|               NULL|         NULL|2015-02-22|      11|           11|            0|Sun|               NULL|       WN|Southwest Airline...|        MSP|Minneapolis-Saint...|          MN|      MDW|Chicago Midway In...|        IL|2015|    2|\n",
      "|  9|          1|     AA|          360|     N3LEAA|           ORD|                LGA|               1605|          NULL|           72.0|    23.0|      NULL|         124.0|       124.0|    95.0|   733.0|     NULL|    6.0|             1909|        NULL|         72.0|       0|        0|               NULL|             0.0|           0.0|         72.0|                0.0|          0.0|2015-02-09|      16|           16|            1|Mon|               NULL|       AA|American Airlines...|        ORD|Chicago O'Hare In...|          IL|      LGA|LaGuardia Airport...|        NY|2015|    2|\n",
      "| 19|          4|     WN|         4459|     N8621A|           DCA|                DAL|                655|          NULL|           -5.0|     8.0|      NULL|         220.0|       181.0|   170.0|  1184.0|     NULL|    3.0|              935|        NULL|        -44.0|       0|        0|               NULL|            NULL|          NULL|         NULL|               NULL|         NULL|2015-02-19|       6|            6|            0|Thu|               NULL|       WN|Southwest Airline...|        DCA|Ronald Reagan Was...|          VA|      DAL|   Dallas Love Field|        TX|2015|    2|\n",
      "| 27|          5|     EV|         5385|     N678CA|           DTW|                IAH|               1735|          NULL|           -6.0|    11.0|      NULL|         193.0|       199.0|   180.0|  1075.0|     NULL|    8.0|             1948|        NULL|          0.0|       0|        0|               NULL|            NULL|          NULL|         NULL|               NULL|         NULL|2015-02-27|      17|           17|            0|Fri|               NULL|       EV|Atlantic Southeas...|        DTW|Detroit Metropoli...|          MI|      IAH|George Bush Inter...|        TX|2015|    2|\n",
      "| 22|          7|     DL|         1866|     N144DA|           SFO|                ATL|                744|          NULL|           -1.0|    13.0|      NULL|         276.0|       245.0|   223.0|  2139.0|     NULL|    9.0|             1520|        NULL|        -32.0|       0|        0|               NULL|            NULL|          NULL|         NULL|               NULL|         NULL|2015-02-22|       7|            7|            0|Sun|               NULL|       DL|Delta Air Lines Inc.|        SFO|San Francisco Int...|          CA|      ATL|Hartsfield-Jackso...|        GA|2015|    2|\n",
      "+---+-----------+-------+-------------+-----------+--------------+-------------------+-------------------+--------------+---------------+--------+----------+--------------+------------+--------+--------+---------+-------+-----------------+------------+-------------+--------+---------+-------------------+----------------+--------------+-------------+-------------------+-------------+----------+--------+-------------+-------------+---+-------------------+---------+--------------------+-----------+--------------------+------------+---------+--------------------+----------+----+-----+\n",
      "only showing top 5 rows\n"
     ]
    }
   ],
   "source": [
    "df = spark.read.parquet(\"data/lake/enriched_parquet\")\n",
    "df = df.filter((F.col(\"CANCELLED\")==0) & (F.col(\"DIVERTED\")==0))\n",
    "df.show(5)"
   ]
  },
  {
   "cell_type": "code",
   "execution_count": 22,
   "id": "fb0c2bf9",
   "metadata": {},
   "outputs": [
    {
     "name": "stdout",
     "output_type": "stream",
     "text": [
      "+-------+----------------------------+-------+-------------------+------------------+\n",
      "|AIRLINE|CARRIER_NAME                |flights|p_delay            |avg_arr_delay     |\n",
      "+-------+----------------------------+-------+-------------------+------------------+\n",
      "|NK     |Spirit Air Lines            |15259  |0.2965457455321419 |15.202253934382503|\n",
      "|F9     |Frontier Airlines Inc.      |11808  |0.26027163235670964|12.036644742461775|\n",
      "|B6     |JetBlue Airways             |34718  |0.2258594873902704 |6.753324917060568 |\n",
      "|MQ     |American Eagle Airlines Inc.|38303  |0.21712083677401597|6.220919350399119 |\n",
      "|UA     |United Air Lines Inc.       |67043  |0.2071143969578984 |5.590725226112382 |\n",
      "|EV     |Atlantic Southeast Airlines |74357  |0.1966379334238754 |6.765445272873417 |\n",
      "|VX     |Virgin America              |8046   |0.19512807634354595|4.687343043696635 |\n",
      "|WN     |Southwest Airlines Co.      |164040 |0.19037268234682123|4.414619948228242 |\n",
      "|US     |US Airways Inc.             |25833  |0.18788118811881188|3.7170297029702972|\n",
      "|OO     |Skywest Airlines Inc.       |76487  |0.18354717383765903|5.76179679372616  |\n",
      "+-------+----------------------------+-------+-------------------+------------------+\n",
      "only showing top 10 rows\n"
     ]
    }
   ],
   "source": [
    "by_airline = (df.groupBy(\"AIRLINE\",\"CARRIER_NAME\")\n",
    "  .agg(F.count(\"*\").alias(\"flights\"),\n",
    "       F.avg(\"IS_DELAYED_15\").alias(\"p_delay\"),\n",
    "       F.avg(\"ARRIVAL_DELAY\").alias(\"avg_arr_delay\"))\n",
    "  .filter(\"flights >= 500\")\n",
    "  .orderBy(F.desc(\"p_delay\")))\n",
    "\n",
    "by_airline.show(10, truncate=False)"
   ]
  },
  {
   "cell_type": "code",
   "execution_count": 23,
   "id": "a9a005ed",
   "metadata": {},
   "outputs": [
    {
     "name": "stdout",
     "output_type": "stream",
     "text": [
      "+--------------+------------------------------------------+------------+-----+-------------------+\n",
      "|ORIGIN_AIRPORT|ORIGIN_AIRPORT_NAME                       |ORIGIN_STATE|n    |p_delay            |\n",
      "+--------------+------------------------------------------+------------+-----+-------------------+\n",
      "|ASE           |Aspen-Pitkin County Airport               |CO          |435  |0.3112244897959184 |\n",
      "|ACY           |Atlantic City International Airport       |NJ          |486  |0.24634655532359082|\n",
      "|ORD           |Chicago O'Hare International Airport      |IL          |36968|0.2437456324248777 |\n",
      "|LGA           |LaGuardia Airport (Marine Air Terminal)   |NY          |12899|0.2434435575826682 |\n",
      "|HPN           |Westchester County Airport                |NY          |966  |0.23969631236442515|\n",
      "|BWI           |Baltimore-Washington International Airport|MD          |11140|0.23127005960568547|\n",
      "|CID           |The Eastern Iowa Airport                  |IA          |904  |0.23103448275862068|\n",
      "|SHV           |Shreveport Regional Airport               |LA          |780  |0.22872340425531915|\n",
      "|FSD           |Sioux Falls Regional Airport              |SD          |652  |0.22784810126582278|\n",
      "|MIA           |Miami International Airport               |FL          |9109 |0.22703485135285603|\n",
      "+--------------+------------------------------------------+------------+-----+-------------------+\n",
      "only showing top 10 rows\n"
     ]
    }
   ],
   "source": [
    "by_origin = (df.groupBy(\"ORIGIN_AIRPORT\",\"ORIGIN_AIRPORT_NAME\",\"ORIGIN_STATE\")\n",
    "  .agg(F.count(\"*\").alias(\"n\"),\n",
    "       F.avg(\"IS_DELAYED_15\").alias(\"p_delay\"))\n",
    "  .filter(\"n >= 300\")\n",
    "  .orderBy(F.desc(\"p_delay\")))\n",
    "\n",
    "by_origin.show(10, truncate=False)\n"
   ]
  },
  {
   "cell_type": "code",
   "execution_count": 24,
   "id": "53090001",
   "metadata": {},
   "outputs": [
    {
     "name": "stdout",
     "output_type": "stream",
     "text": [
      "+--------------+-------------------+---+-------------------+------------------+\n",
      "|ORIGIN_AIRPORT|DESTINATION_AIRPORT|n  |p_delay            |avg_arr_delay     |\n",
      "+--------------+-------------------+---+-------------------+------------------+\n",
      "|DFW           |TYS                |224|0.365296803652968  |22.164383561643834|\n",
      "|ORD           |EWR                |500|0.34375            |19.84375          |\n",
      "|STL           |LGA                |207|0.34054054054054056|14.886486486486486|\n",
      "|LGA           |RDU                |265|0.3333333333333333 |14.710843373493976|\n",
      "|BWI           |BUF                |221|0.3287037037037037 |14.337962962962964|\n",
      "|RDU           |LGA                |230|0.3285024154589372 |14.159420289855072|\n",
      "|MDW           |LGA                |275|0.3228346456692913 |16.992125984251967|\n",
      "|ORD           |MSP                |863|0.32037691401649   |18.021201413427562|\n",
      "|ORD           |IAH                |556|0.3192660550458716 |14.023853211009174|\n",
      "|IAH           |LAX                |597|0.3148148148148148 |16.089225589225588|\n",
      "+--------------+-------------------+---+-------------------+------------------+\n",
      "only showing top 10 rows\n"
     ]
    }
   ],
   "source": [
    "by_route = (df.groupBy(\"ORIGIN_AIRPORT\",\"DESTINATION_AIRPORT\")\n",
    "  .agg(F.count(\"*\").alias(\"n\"),\n",
    "       F.avg(\"IS_DELAYED_15\").alias(\"p_delay\"),\n",
    "       F.avg(\"ARRIVAL_DELAY\").alias(\"avg_arr_delay\"))\n",
    "  .filter(\"n >= 200\")\n",
    "  .orderBy(F.desc(\"p_delay\")))\n",
    "\n",
    "by_route.show(10, truncate=False)"
   ]
  },
  {
   "cell_type": "code",
   "execution_count": 25,
   "id": "b9ed0f66",
   "metadata": {},
   "outputs": [
    {
     "name": "stdout",
     "output_type": "stream",
     "text": [
      "+--------+-----+-------------------+\n",
      "|DEP_HOUR|n    |p_delay            |\n",
      "+--------+-----+-------------------+\n",
      "|0       |1901 |0.15127388535031847|\n",
      "|1       |659  |0.17619783616692428|\n",
      "|2       |180  |0.16853932584269662|\n",
      "|3       |99   |0.23958333333333334|\n",
      "|4       |71   |0.18571428571428572|\n",
      "|5       |15184|0.06982208794897617|\n",
      "|6       |52906|0.0890655449862041 |\n",
      "|7       |51059|0.11199362993928536|\n",
      "|8       |49607|0.12959507944643772|\n",
      "|9       |45540|0.1402918569678066 |\n",
      "|10      |48586|0.1541017870205873 |\n",
      "|11      |46627|0.16558512259918992|\n",
      "|12      |46389|0.17477769503701432|\n",
      "|13      |47316|0.19083100708610692|\n",
      "|14      |42971|0.210315579984837  |\n",
      "|15      |47576|0.2113329343365253 |\n",
      "|16      |43712|0.23320878094348435|\n",
      "|17      |50583|0.24563173398975022|\n",
      "|18      |43051|0.25665733137133906|\n",
      "|19      |43050|0.2615832859579306 |\n",
      "|20      |34006|0.2629058490452382 |\n",
      "|21      |24440|0.24499351979597808|\n",
      "|22      |15318|0.22377808895112355|\n",
      "|23      |5649 |0.19080007159477358|\n",
      "+--------+-----+-------------------+\n",
      "\n"
     ]
    }
   ],
   "source": [
    "by_hour = (df.groupBy(\"DEP_HOUR\")\n",
    "  .agg(F.count(\"*\").alias(\"n\"),\n",
    "       F.avg(\"IS_DELAYED_15\").alias(\"p_delay\"))\n",
    "  .orderBy(\"DEP_HOUR\"))\n",
    "\n",
    "by_hour.show(24, truncate=False)\n"
   ]
  },
  {
   "cell_type": "code",
   "execution_count": 27,
   "id": "9157c841",
   "metadata": {},
   "outputs": [
    {
     "name": "stdout",
     "output_type": "stream",
     "text": [
      "+---+------+-------------------+\n",
      "|DOW|n     |p_delay            |\n",
      "+---+------+-------------------+\n",
      "|Fri|111871|0.1913202491309386 |\n",
      "|Mon|112362|0.19869793335836133|\n",
      "|Sat|91519 |0.16002086408381147|\n",
      "|Sun|106635|0.18315682922869775|\n",
      "|Thu|113698|0.1987688783909527 |\n",
      "|Tue|109415|0.18094562956468208|\n",
      "|Wed|110980|0.18232241086277162|\n",
      "+---+------+-------------------+\n",
      "\n"
     ]
    }
   ],
   "source": [
    "by_dow = (df.groupBy(\"DOW\")\n",
    "  .agg(F.count(\"*\").alias(\"n\"),\n",
    "       F.avg(\"IS_DELAYED_15\").alias(\"p_delay\"))\n",
    "  .orderBy(\"DOW\"))\n",
    "\n",
    "by_dow.show(7, truncate=False)\n"
   ]
  },
  {
   "cell_type": "code",
   "execution_count": 30,
   "id": "8071e0a1",
   "metadata": {},
   "outputs": [
    {
     "name": "stdout",
     "output_type": "stream",
     "text": [
      "+------+------+-------------------+--------------------+\n",
      "|SEASON|n     |p_delay            |avg_arr_delay       |\n",
      "+------+------+-------------------+--------------------+\n",
      "|autumn|184480|0.13400619675517353|-0.27690315247624303|\n",
      "|spring|193238|0.18290699082385273|4.219379938825685   |\n",
      "|summer|199569|0.21078596083941717|6.876841697976805   |\n",
      "|winter|179193|0.2151129959780116 |6.6963744482730805  |\n",
      "+------+------+-------------------+--------------------+\n",
      "\n"
     ]
    }
   ],
   "source": [
    "season = (F.when(F.col(\"MONTH\").isin(12,1,2), \"winter\")\n",
    "            .when(F.col(\"MONTH\").isin(3,4,5), \"spring\")\n",
    "            .when(F.col(\"MONTH\").isin(6,7,8), \"summer\")\n",
    "            .otherwise(\"autumn\"))\n",
    "df = df.withColumn(\"SEASON\", season)\n",
    "\n",
    "\n",
    "\n",
    "by_season = (df.groupBy(\"SEASON\")\n",
    "  .agg(F.count(\"*\").alias(\"n\"),\n",
    "       F.avg(\"IS_DELAYED_15\").alias(\"p_delay\"),\n",
    "       F.avg(\"ARRIVAL_DELAY\").alias(\"avg_arr_delay\"))\n",
    "  .orderBy(\"SEASON\"))\n",
    "\n",
    "by_season.show(truncate=False)\n"
   ]
  },
  {
   "cell_type": "code",
   "execution_count": 32,
   "id": "9136ad18",
   "metadata": {},
   "outputs": [
    {
     "name": "stdout",
     "output_type": "stream",
     "text": [
      "+--------+------+-------------------+------------------+\n",
      "|DIST_BIN|n     |p_delay            |avg_arr_delay     |\n",
      "+--------+------+-------------------+------------------+\n",
      "|long    |102489|0.1838206993200233 |1.7663011832976403|\n",
      "|medium  |378297|0.18938189720789997|4.619977460939917 |\n",
      "|short   |275694|0.18148559991104193|5.066937247488788 |\n",
      "+--------+------+-------------------+------------------+\n",
      "\n"
     ]
    }
   ],
   "source": [
    "dist_bins = (F.when(F.col(\"DISTANCE\") < 500, \"short\")\n",
    "               .when(F.col(\"DISTANCE\") < 1500, \"medium\")\n",
    "               .otherwise(\"long\"))\n",
    "df = df.withColumn(\"DIST_BIN\", dist_bins)\n",
    "\n",
    "\n",
    "by_dist = (df.groupBy(\"DIST_BIN\")\n",
    "  .agg(F.count(\"*\").alias(\"n\"),\n",
    "       F.avg(\"IS_DELAYED_15\").alias(\"p_delay\"),\n",
    "       F.avg(\"ARRIVAL_DELAY\").alias(\"avg_arr_delay\"))\n",
    "  .orderBy(\"DIST_BIN\"))\n",
    "\n",
    "by_dist.show(truncate=False)\n"
   ]
  },
  {
   "cell_type": "code",
   "execution_count": 34,
   "id": "5b31570e",
   "metadata": {},
   "outputs": [
    {
     "name": "stderr",
     "output_type": "stream",
     "text": [
      "                                                                                \r"
     ]
    },
    {
     "name": "stdout",
     "output_type": "stream",
     "text": [
      "###### Shuffle partitions: ###### 200\n"
     ]
    },
    {
     "name": "stderr",
     "output_type": "stream",
     "text": [
      "[Stage 83:==========================================>              (9 + 3) / 12]\r"
     ]
    },
    {
     "name": "stdout",
     "output_type": "stream",
     "text": [
      "###### Partitions nach repartition: ###### 48\n",
      "== Parsed Logical Plan ==\n",
      "'Aggregate ['AIRLINE], ['AIRLINE, 'avg('ARRIVAL_DELAY) AS avg_arr#2327]\n",
      "+- Filter MONTH#2325 IN (6,7,8)\n",
      "   +- RepartitionByExpression [MONTH#2325], 48\n",
      "      +- Relation [DAY#2281,DAY_OF_WEEK#2282,AIRLINE#2283,FLIGHT_NUMBER#2284,TAIL_NUMBER#2285,ORIGIN_AIRPORT#2286,DESTINATION_AIRPORT#2287,SCHEDULED_DEPARTURE#2288,DEPARTURE_TIME#2289,DEPARTURE_DELAY#2290,TAXI_OUT#2291,WHEELS_OFF#2292,SCHEDULED_TIME#2293,ELAPSED_TIME#2294,AIR_TIME#2295,DISTANCE#2296,WHEELS_ON#2297,TAXI_IN#2298,SCHEDULED_ARRIVAL#2299,ARRIVAL_TIME#2300,ARRIVAL_DELAY#2301,DIVERTED#2302,CANCELLED#2303,CANCELLATION_REASON#2304,AIR_SYSTEM_DELAY#2305,... 20 more fields] parquet\n",
      "\n",
      "== Analyzed Logical Plan ==\n",
      "AIRLINE: string, avg_arr: double\n",
      "Aggregate [AIRLINE#2283], [AIRLINE#2283, avg(ARRIVAL_DELAY#2301) AS avg_arr#2327]\n",
      "+- Filter MONTH#2325 IN (6,7,8)\n",
      "   +- RepartitionByExpression [MONTH#2325], 48\n",
      "      +- Relation [DAY#2281,DAY_OF_WEEK#2282,AIRLINE#2283,FLIGHT_NUMBER#2284,TAIL_NUMBER#2285,ORIGIN_AIRPORT#2286,DESTINATION_AIRPORT#2287,SCHEDULED_DEPARTURE#2288,DEPARTURE_TIME#2289,DEPARTURE_DELAY#2290,TAXI_OUT#2291,WHEELS_OFF#2292,SCHEDULED_TIME#2293,ELAPSED_TIME#2294,AIR_TIME#2295,DISTANCE#2296,WHEELS_ON#2297,TAXI_IN#2298,SCHEDULED_ARRIVAL#2299,ARRIVAL_TIME#2300,ARRIVAL_DELAY#2301,DIVERTED#2302,CANCELLED#2303,CANCELLATION_REASON#2304,AIR_SYSTEM_DELAY#2305,... 20 more fields] parquet\n",
      "\n",
      "== Optimized Logical Plan ==\n",
      "Aggregate [AIRLINE#2283], [AIRLINE#2283, avg(ARRIVAL_DELAY#2301) AS avg_arr#2327]\n",
      "+- Project [AIRLINE#2283, ARRIVAL_DELAY#2301]\n",
      "   +- RepartitionByExpression [MONTH#2325], 48\n",
      "      +- Project [AIRLINE#2283, ARRIVAL_DELAY#2301, MONTH#2325]\n",
      "         +- Filter MONTH#2325 IN (6,7,8)\n",
      "            +- Relation [DAY#2281,DAY_OF_WEEK#2282,AIRLINE#2283,FLIGHT_NUMBER#2284,TAIL_NUMBER#2285,ORIGIN_AIRPORT#2286,DESTINATION_AIRPORT#2287,SCHEDULED_DEPARTURE#2288,DEPARTURE_TIME#2289,DEPARTURE_DELAY#2290,TAXI_OUT#2291,WHEELS_OFF#2292,SCHEDULED_TIME#2293,ELAPSED_TIME#2294,AIR_TIME#2295,DISTANCE#2296,WHEELS_ON#2297,TAXI_IN#2298,SCHEDULED_ARRIVAL#2299,ARRIVAL_TIME#2300,ARRIVAL_DELAY#2301,DIVERTED#2302,CANCELLED#2303,CANCELLATION_REASON#2304,AIR_SYSTEM_DELAY#2305,... 20 more fields] parquet\n",
      "\n",
      "== Physical Plan ==\n",
      "AdaptiveSparkPlan isFinalPlan=false\n",
      "+- HashAggregate(keys=[AIRLINE#2283], functions=[avg(ARRIVAL_DELAY#2301)], output=[AIRLINE#2283, avg_arr#2327])\n",
      "   +- Exchange hashpartitioning(AIRLINE#2283, 200), ENSURE_REQUIREMENTS, [plan_id=2155]\n",
      "      +- HashAggregate(keys=[AIRLINE#2283], functions=[partial_avg(ARRIVAL_DELAY#2301)], output=[AIRLINE#2283, sum#2376, count#2377L])\n",
      "         +- Project [AIRLINE#2283, ARRIVAL_DELAY#2301]\n",
      "            +- Exchange hashpartitioning(MONTH#2325, 48), REPARTITION_BY_NUM, [plan_id=2150]\n",
      "               +- Project [AIRLINE#2283, ARRIVAL_DELAY#2301, MONTH#2325]\n",
      "                  +- FileScan parquet [AIRLINE#2283,ARRIVAL_DELAY#2301,YEAR#2324,MONTH#2325] Batched: true, DataFilters: [], Format: Parquet, Location: InMemoryFileIndex(1 paths)[file:/Users/christopherkeibel/Code/fhswf/datenanalyse-in-big-data/data..., PartitionFilters: [MONTH#2325 IN (6,7,8)], PushedFilters: [], ReadSchema: struct<AIRLINE:string,ARRIVAL_DELAY:double>\n",
      "\n"
     ]
    },
    {
     "name": "stderr",
     "output_type": "stream",
     "text": [
      "[Stage 83:===================================================>    (11 + 1) / 12]\r"
     ]
    }
   ],
   "source": [
    "probe = spark.read.parquet(\"data/lake/enriched_parquet\")\n",
    "print(\"###### Shuffle partitions: ######\", spark.conf.get(\"spark.sql.shuffle.partitions\"))\n",
    "\n",
    "probe_rep = probe.repartition(48, \"MONTH\")  # mehr Parallelismus für Shuffles\n",
    "print(\"###### Partitions nach repartition: ######\", probe_rep.rdd.getNumPartitions())\n",
    "\n",
    "# Partition Pruning (Sommer)\n",
    "(probe_rep.filter(\"MONTH in (6,7,8)\")\n",
    "          .groupBy(\"AIRLINE\")\n",
    "          .agg(F.avg(\"ARRIVAL_DELAY\").alias(\"avg_arr\"))\n",
    "          .explain(True))\n"
   ]
  },
  {
   "cell_type": "code",
   "execution_count": 35,
   "id": "63303f6e",
   "metadata": {},
   "outputs": [
    {
     "name": "stderr",
     "output_type": "stream",
     "text": [
      "25/09/20 15:59:16 WARN InstanceBuilder: Failed to load implementation from:dev.ludovic.netlib.blas.JNIBLAS\n",
      "                                                                                \r"
     ]
    },
    {
     "name": "stdout",
     "output_type": "stream",
     "text": [
      "AUC=0.637 | Accuracy=0.814\n"
     ]
    },
    {
     "name": "stderr",
     "output_type": "stream",
     "text": [
      "                                                                                \r"
     ]
    }
   ],
   "source": [
    "from pyspark.ml import Pipeline\n",
    "from pyspark.ml.feature import StringIndexer, OneHotEncoder, VectorAssembler\n",
    "from pyspark.ml.classification import LogisticRegression\n",
    "from pyspark.ml.evaluation import BinaryClassificationEvaluator\n",
    "\n",
    "ml = (df\n",
    "      .withColumn(\"label\", F.col(\"IS_DELAYED_15\").cast(\"double\"))\n",
    "      .select(\"label\",\"DEP_HOUR\",\"MONTH\",\"DISTANCE\",\n",
    "              \"AIRLINE\",\"ORIGIN_AIRPORT\",\"DESTINATION_AIRPORT\")\n",
    "      .na.drop())\n",
    "\n",
    "cat = [\"AIRLINE\",\"ORIGIN_AIRPORT\",\"DESTINATION_AIRPORT\"]\n",
    "idx = [StringIndexer(inputCol=c, outputCol=f\"{c}_idx\", handleInvalid=\"keep\") for c in cat]\n",
    "ohe = OneHotEncoder(inputCols=[f\"{c}_idx\" for c in cat],\n",
    "                    outputCols=[f\"{c}_ohe\" for c in cat])\n",
    "vec = VectorAssembler(\n",
    "    inputCols=[\"DEP_HOUR\",\"MONTH\",\"DISTANCE\"] + [f\"{c}_ohe\" for c in cat],\n",
    "    outputCol=\"features\"\n",
    ")\n",
    "lr = LogisticRegression(featuresCol=\"features\", labelCol=\"label\", maxIter=50)\n",
    "\n",
    "pipe = Pipeline(stages=idx + [ohe, vec, lr])\n",
    "train, test = ml.randomSplit([0.8, 0.2], seed=42)\n",
    "model = pipe.fit(train)\n",
    "pred  = model.transform(test)\n",
    "\n",
    "auc = BinaryClassificationEvaluator(labelCol=\"label\").evaluate(pred)\n",
    "acc = pred.select((F.col(\"prediction\")==F.col(\"label\")).cast(\"int\").alias(\"ok\")).agg(F.avg(\"ok\")).first()[0]\n",
    "print(f\"AUC={auc:.3f} | Accuracy={acc:.3f}\")\n"
   ]
  }
 ],
 "metadata": {
  "kernelspec": {
   "display_name": "datenanalyse-in-big-data",
   "language": "python",
   "name": "python3"
  },
  "language_info": {
   "codemirror_mode": {
    "name": "ipython",
    "version": 3
   },
   "file_extension": ".py",
   "mimetype": "text/x-python",
   "name": "python",
   "nbconvert_exporter": "python",
   "pygments_lexer": "ipython3",
   "version": "3.11.7"
  }
 },
 "nbformat": 4,
 "nbformat_minor": 5
}
